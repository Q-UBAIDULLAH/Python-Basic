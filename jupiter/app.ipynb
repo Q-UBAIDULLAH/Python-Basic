{
 "cells": [
  {
   "cell_type": "markdown",
   "id": "c1c06c78",
   "metadata": {},
   "source": [
    "string methods"
   ]
  },
  {
   "cell_type": "code",
   "execution_count": 7,
   "id": "8cc37d9f",
   "metadata": {},
   "outputs": [
    {
     "name": "stdout",
     "output_type": "stream",
     "text": [
      "QAZI UBAID\n",
      "qazi ubaid\n",
      "Qazi ubaid\n",
      "Qazi Ubaid\n",
      "10\n",
      "qazi ubaid\n",
      "qazi ubaid\n",
      "qazi ubaid\n"
     ]
    }
   ],
   "source": [
    "name=\"qazi ubaid\"\n",
    "\n",
    "print(name.upper())\n",
    "print(name.lower())\n",
    "print(name.capitalize()) #first letter just\n",
    "print(name.title()) # dono word ka first capital\n",
    "print(len(name))\n",
    "print(name.strip())\n",
    "print(name.lstrip())\n",
    "print(name.rstrip())\n",
    "\n"
   ]
  },
  {
   "cell_type": "code",
   "execution_count": 23,
   "id": "9b98d926",
   "metadata": {},
   "outputs": [
    {
     "name": "stdout",
     "output_type": "stream",
     "text": [
      "qazi ubaidullah\n",
      "qozi umoir\n",
      "qozi umair\n",
      "find method -1\n"
     ]
    },
    {
     "ename": "ValueError",
     "evalue": "substring not found",
     "output_type": "error",
     "traceback": [
      "\u001b[31m---------------------------------------------------------------------------\u001b[39m",
      "\u001b[31mValueError\u001b[39m                                Traceback (most recent call last)",
      "\u001b[36mCell\u001b[39m\u001b[36m \u001b[39m\u001b[32mIn[23]\u001b[39m\u001b[32m, line 7\u001b[39m\n\u001b[32m      4\u001b[39m \u001b[38;5;28mprint\u001b[39m(value.replace(\u001b[33m\"\u001b[39m\u001b[33ma\u001b[39m\u001b[33m\"\u001b[39m,\u001b[33m\"\u001b[39m\u001b[33mo\u001b[39m\u001b[33m\"\u001b[39m,\u001b[32m1\u001b[39m))\n\u001b[32m      6\u001b[39m \u001b[38;5;28mprint\u001b[39m(\u001b[33m\"\u001b[39m\u001b[33mfind method\u001b[39m\u001b[33m\"\u001b[39m,value.find(\u001b[33m\"\u001b[39m\u001b[33mc\u001b[39m\u001b[33m\"\u001b[39m)) \u001b[38;5;66;03m#agr find nh milta tw -1 dega\u001b[39;00m\n\u001b[32m----> \u001b[39m\u001b[32m7\u001b[39m \u001b[38;5;28mprint\u001b[39m(\u001b[33m\"\u001b[39m\u001b[33mindex method\u001b[39m\u001b[33m\"\u001b[39m,\u001b[43mvalue\u001b[49m\u001b[43m.\u001b[49m\u001b[43mindex\u001b[49m\u001b[43m(\u001b[49m\u001b[33;43m\"\u001b[39;49m\u001b[33;43mc\u001b[39;49m\u001b[33;43m\"\u001b[39;49m\u001b[43m)\u001b[49m) \u001b[38;5;66;03m# ye error dega\u001b[39;00m\n",
      "\u001b[31mValueError\u001b[39m: substring not found"
     ]
    }
   ],
   "source": [
    "value=\"qazi umair\"\n",
    "print(value.replace(\"umair\",\"ubaidullah\"))\n",
    "print(value.replace(\"a\",\"o\"))\n",
    "print(value.replace(\"a\",\"o\",1))\n",
    "\n",
    "print(\"find method\",value.find(\"c\")) #agr find nh milta tw -1 dega\n",
    "print(\"index method\",value.index(\"c\")) # ye error dega\n"
   ]
  },
  {
   "cell_type": "code",
   "execution_count": 32,
   "id": "2b1b9820",
   "metadata": {},
   "outputs": [
    {
     "name": "stdout",
     "output_type": "stream",
     "text": [
      "True\n",
      "True\n",
      "start with qazi\n"
     ]
    }
   ],
   "source": [
    "value=\"qazi ubaid\"\n",
    "\n",
    "print(value.startswith('qazi')) #check krega start yha se hora he ya nh true false\n",
    "print(value.endswith('ubaid')) #check krega end yha se hora he ya nh true false\n",
    "\n",
    "if value.startswith(\"qazi\"):\n",
    "    print(\"start with qazi\")\n",
    "else:\n",
    "    print(\"not start qazi\")    "
   ]
  },
  {
   "cell_type": "code",
   "execution_count": 44,
   "id": "8ccf5361",
   "metadata": {},
   "outputs": [
    {
     "name": "stdout",
     "output_type": "stream",
     "text": [
      "['jan', 'feb', 'mar', 'apr', 'may', 'jun']\n"
     ]
    }
   ],
   "source": [
    "value=\"jan,feb,mar,apr,may,jun\"\n",
    "print(value.split(\",\"))\n",
    "\n"
   ]
  },
  {
   "cell_type": "code",
   "execution_count": null,
   "id": "688fc882",
   "metadata": {},
   "outputs": [],
   "source": []
  }
 ],
 "metadata": {
  "kernelspec": {
   "display_name": "Python (.venv)",
   "language": "python",
   "name": ".venv"
  },
  "language_info": {
   "codemirror_mode": {
    "name": "ipython",
    "version": 3
   },
   "file_extension": ".py",
   "mimetype": "text/x-python",
   "name": "python",
   "nbconvert_exporter": "python",
   "pygments_lexer": "ipython3",
   "version": "3.12.10"
  }
 },
 "nbformat": 4,
 "nbformat_minor": 5
}
