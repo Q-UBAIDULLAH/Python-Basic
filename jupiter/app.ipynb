{
 "cells": [
  {
   "cell_type": "markdown",
   "id": "c1c06c78",
   "metadata": {},
   "source": [
    "string methods"
   ]
  },
  {
   "cell_type": "code",
   "execution_count": 7,
   "id": "8cc37d9f",
   "metadata": {},
   "outputs": [
    {
     "name": "stdout",
     "output_type": "stream",
     "text": [
      "QAZI UBAID\n",
      "qazi ubaid\n",
      "Qazi ubaid\n",
      "Qazi Ubaid\n",
      "10\n",
      "qazi ubaid\n",
      "qazi ubaid\n",
      "qazi ubaid\n"
     ]
    }
   ],
   "source": [
    "name=\"qazi ubaid\"\n",
    "\n",
    "print(name.upper())\n",
    "print(name.lower())\n",
    "print(name.capitalize()) #first letter just\n",
    "print(name.title()) # dono word ka first capital\n",
    "print(len(name))\n",
    "print(name.strip())\n",
    "print(name.lstrip())\n",
    "print(name.rstrip())\n",
    "\n"
   ]
  },
  {
   "cell_type": "code",
   "execution_count": 23,
   "id": "9b98d926",
   "metadata": {},
   "outputs": [
    {
     "name": "stdout",
     "output_type": "stream",
     "text": [
      "qazi ubaidullah\n",
      "qozi umoir\n",
      "qozi umair\n",
      "find method -1\n"
     ]
    },
    {
     "ename": "ValueError",
     "evalue": "substring not found",
     "output_type": "error",
     "traceback": [
      "\u001b[31m---------------------------------------------------------------------------\u001b[39m",
      "\u001b[31mValueError\u001b[39m                                Traceback (most recent call last)",
      "\u001b[36mCell\u001b[39m\u001b[36m \u001b[39m\u001b[32mIn[23]\u001b[39m\u001b[32m, line 7\u001b[39m\n\u001b[32m      4\u001b[39m \u001b[38;5;28mprint\u001b[39m(value.replace(\u001b[33m\"\u001b[39m\u001b[33ma\u001b[39m\u001b[33m\"\u001b[39m,\u001b[33m\"\u001b[39m\u001b[33mo\u001b[39m\u001b[33m\"\u001b[39m,\u001b[32m1\u001b[39m))\n\u001b[32m      6\u001b[39m \u001b[38;5;28mprint\u001b[39m(\u001b[33m\"\u001b[39m\u001b[33mfind method\u001b[39m\u001b[33m\"\u001b[39m,value.find(\u001b[33m\"\u001b[39m\u001b[33mc\u001b[39m\u001b[33m\"\u001b[39m)) \u001b[38;5;66;03m#agr find nh milta tw -1 dega\u001b[39;00m\n\u001b[32m----> \u001b[39m\u001b[32m7\u001b[39m \u001b[38;5;28mprint\u001b[39m(\u001b[33m\"\u001b[39m\u001b[33mindex method\u001b[39m\u001b[33m\"\u001b[39m,\u001b[43mvalue\u001b[49m\u001b[43m.\u001b[49m\u001b[43mindex\u001b[49m\u001b[43m(\u001b[49m\u001b[33;43m\"\u001b[39;49m\u001b[33;43mc\u001b[39;49m\u001b[33;43m\"\u001b[39;49m\u001b[43m)\u001b[49m) \u001b[38;5;66;03m# ye error dega\u001b[39;00m\n",
      "\u001b[31mValueError\u001b[39m: substring not found"
     ]
    }
   ],
   "source": [
    "value=\"qazi umair\"\n",
    "print(value.replace(\"umair\",\"ubaidullah\"))\n",
    "print(value.replace(\"a\",\"o\"))\n",
    "print(value.replace(\"a\",\"o\",1))\n",
    "\n",
    "print(\"find method\",value.find(\"c\")) #agr find nh milta tw -1 dega\n",
    "print(\"index method\",value.index(\"c\")) # ye error dega\n"
   ]
  },
  {
   "cell_type": "code",
   "execution_count": 32,
   "id": "2b1b9820",
   "metadata": {},
   "outputs": [
    {
     "name": "stdout",
     "output_type": "stream",
     "text": [
      "True\n",
      "True\n",
      "start with qazi\n"
     ]
    }
   ],
   "source": [
    "value=\"qazi ubaid\"\n",
    "\n",
    "print(value.startswith('qazi')) #check krega start yha se hora he ya nh true false\n",
    "print(value.endswith('ubaid')) #check krega end yha se hora he ya nh true false\n",
    "\n",
    "if value.startswith(\"qazi\"):\n",
    "    print(\"start with qazi\")\n",
    "else:\n",
    "    print(\"not start qazi\")    "
   ]
  },
  {
   "cell_type": "code",
   "execution_count": 44,
   "id": "8ccf5361",
   "metadata": {},
   "outputs": [
    {
     "name": "stdout",
     "output_type": "stream",
     "text": [
      "['jan', 'feb', 'mar', 'apr', 'may', 'jun']\n"
     ]
    }
   ],
   "source": [
    "value=\"jan,feb,mar,apr,may,jun\"\n",
    "print(value.split(\",\"))\n",
    "\n"
   ]
  },
  {
   "cell_type": "markdown",
   "id": "62b620e8",
   "metadata": {},
   "source": [
    "list Method"
   ]
  },
  {
   "cell_type": "code",
   "execution_count": 46,
   "id": "ec7d6192",
   "metadata": {},
   "outputs": [
    {
     "name": "stdout",
     "output_type": "stream",
     "text": [
      "['jan', 'feb', 'mar', 'apr', 'may', 'jun', 'july']\n"
     ]
    }
   ],
   "source": [
    "list=[\"jan\",\"feb\",\"mar\",\"apr\",\"may\",\"jun\"]\n",
    "list.append(\"july\")\n",
    "print(list)"
   ]
  },
  {
   "cell_type": "code",
   "execution_count": null,
   "id": "282dce29",
   "metadata": {},
   "outputs": [
    {
     "name": "stdout",
     "output_type": "stream",
     "text": [
      "['JAN', 'jan', 'feb', 'mar', 'apr', 'may', 'jun']\n"
     ]
    }
   ],
   "source": [
    "list=[\"jan\",\"feb\",\"mar\",\"apr\",\"may\",\"jun\"]\n",
    "list.insert(0,\"JAN\") #specific location pr insert krana\n",
    "print(list)"
   ]
  },
  {
   "cell_type": "code",
   "execution_count": 48,
   "id": "b4ed896f",
   "metadata": {},
   "outputs": [
    {
     "name": "stdout",
     "output_type": "stream",
     "text": [
      "jun\n"
     ]
    }
   ],
   "source": [
    "list=[\"jan\",\"feb\",\"mar\",\"apr\",\"may\",\"jun\"]\n",
    "returnvalue=list.pop()\n",
    "print(returnvalue)"
   ]
  },
  {
   "cell_type": "code",
   "execution_count": null,
   "id": "fc604598",
   "metadata": {},
   "outputs": [
    {
     "name": "stdout",
     "output_type": "stream",
     "text": [
      "['jan', 'feb', 'mar', 'apr', 'may', 'jun', 'july', 'aug', 'sep', 'oct', 'nov', 'dec']\n",
      "['jan', 'feb', 'mar', 'apr', 'may', 'jun', 'july', 'aug', 'sep', 'oct', 'nov', 'dec']\n"
     ]
    }
   ],
   "source": [
    "list1=[\"jan\",\"feb\",\"mar\",\"apr\",\"may\",\"jun\"]\n",
    "list2=[\"july\",\"aug\",\"sep\",\"oct\",\"nov\",\"dec\"]\n",
    "list1.extend(list2) #add krdega ye extend\n",
    "print(list1)\n",
    "\n",
    "list1=[\"jan\",\"feb\",\"mar\",\"apr\",\"may\",\"jun\"]\n",
    "list2=[\"july\",\"aug\",\"sep\",\"oct\",\"nov\",\"dec\"]\n",
    "list3=list1+list2 #isme original me update nh kraya hmne\n",
    "print(list3)"
   ]
  },
  {
   "cell_type": "code",
   "execution_count": null,
   "id": "397af364",
   "metadata": {},
   "outputs": [
    {
     "name": "stdout",
     "output_type": "stream",
     "text": [
      "[1, 2, 3, 5, 5, 7, 8, 9]\n",
      "[9, 8, 7, 5, 5, 3, 2, 1]\n",
      "[3, 5, 9, 8, 1, 7, 5, 2]\n"
     ]
    }
   ],
   "source": [
    "list=[2,5,7,1,8,9,5,3]\n",
    "list.sort() #asc\n",
    "print(list)\n",
    "\n",
    "list=[2,5,7,1,8,9,5,3]\n",
    "list.sort(reverse=True) #desc\n",
    "print(list)\n",
    "\n",
    "list=[2,5,7,1,8,9,5,3]\n",
    "list.reverse() #reverse\n",
    "print(list)"
   ]
  },
  {
   "cell_type": "code",
   "execution_count": null,
   "id": "a269614e",
   "metadata": {},
   "outputs": [
    {
     "name": "stdout",
     "output_type": "stream",
     "text": [
      "[2, 5, 7, 8, 9, 5, 3]\n"
     ]
    }
   ],
   "source": [
    "list=[2,5,7,1,8,9,5,3]\n",
    "list.remove(1) #jo value de wo remove krdi\n",
    "print(list)"
   ]
  },
  {
   "cell_type": "code",
   "execution_count": null,
   "id": "b7d409d7",
   "metadata": {},
   "outputs": [
    {
     "name": "stdout",
     "output_type": "stream",
     "text": [
      "[2, 5, 7, 1, 8, 9, 5, 3]\n",
      "[2, 5, 7, 1, 8, 9, 5]\n",
      "[2, 5, 7, 1, 8, 9, 5]\n"
     ]
    }
   ],
   "source": [
    "list=[2,5,7,1,8,9,5,3]\n",
    "list2=list.copy()\n",
    "print(list2)\n",
    "\n",
    "list=[2,5,7,1,8,9,5]\n",
    "list4=list[0:7]\n",
    "print(list4)\n",
    "\n",
    "list=[2,5,7,1,8,9,5]\n",
    "list4=list[0:7:2] \n",
    "print(list4)\n",
    "\n"
   ]
  },
  {
   "cell_type": "code",
   "execution_count": null,
   "id": "f15299ea",
   "metadata": {},
   "outputs": [],
   "source": []
  }
 ],
 "metadata": {
  "kernelspec": {
   "display_name": "Python (.venv)",
   "language": "python",
   "name": ".venv"
  },
  "language_info": {
   "codemirror_mode": {
    "name": "ipython",
    "version": 3
   },
   "file_extension": ".py",
   "mimetype": "text/x-python",
   "name": "python",
   "nbconvert_exporter": "python",
   "pygments_lexer": "ipython3",
   "version": "3.12.10"
  }
 },
 "nbformat": 4,
 "nbformat_minor": 5
}
