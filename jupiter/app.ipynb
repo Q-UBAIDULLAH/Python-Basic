{
 "cells": [
  {
   "cell_type": "markdown",
   "id": "c1c06c78",
   "metadata": {},
   "source": [
    "# string methods"
   ]
  },
  {
   "cell_type": "code",
   "execution_count": 7,
   "id": "8cc37d9f",
   "metadata": {},
   "outputs": [
    {
     "name": "stdout",
     "output_type": "stream",
     "text": [
      "QAZI UBAID\n",
      "qazi ubaid\n",
      "Qazi ubaid\n",
      "Qazi Ubaid\n",
      "10\n",
      "qazi ubaid\n",
      "qazi ubaid\n",
      "qazi ubaid\n"
     ]
    }
   ],
   "source": [
    "name=\"qazi ubaid\"\n",
    "\n",
    "print(name.upper())\n",
    "print(name.lower())\n",
    "print(name.capitalize()) #first letter just\n",
    "print(name.title()) # dono word ka first capital\n",
    "print(len(name))\n",
    "print(name.strip())\n",
    "print(name.lstrip())\n",
    "print(name.rstrip())\n",
    "\n"
   ]
  },
  {
   "cell_type": "code",
   "execution_count": 23,
   "id": "9b98d926",
   "metadata": {},
   "outputs": [
    {
     "name": "stdout",
     "output_type": "stream",
     "text": [
      "qazi ubaidullah\n",
      "qozi umoir\n",
      "qozi umair\n",
      "find method -1\n"
     ]
    },
    {
     "ename": "ValueError",
     "evalue": "substring not found",
     "output_type": "error",
     "traceback": [
      "\u001b[31m---------------------------------------------------------------------------\u001b[39m",
      "\u001b[31mValueError\u001b[39m                                Traceback (most recent call last)",
      "\u001b[36mCell\u001b[39m\u001b[36m \u001b[39m\u001b[32mIn[23]\u001b[39m\u001b[32m, line 7\u001b[39m\n\u001b[32m      4\u001b[39m \u001b[38;5;28mprint\u001b[39m(value.replace(\u001b[33m\"\u001b[39m\u001b[33ma\u001b[39m\u001b[33m\"\u001b[39m,\u001b[33m\"\u001b[39m\u001b[33mo\u001b[39m\u001b[33m\"\u001b[39m,\u001b[32m1\u001b[39m))\n\u001b[32m      6\u001b[39m \u001b[38;5;28mprint\u001b[39m(\u001b[33m\"\u001b[39m\u001b[33mfind method\u001b[39m\u001b[33m\"\u001b[39m,value.find(\u001b[33m\"\u001b[39m\u001b[33mc\u001b[39m\u001b[33m\"\u001b[39m)) \u001b[38;5;66;03m#agr find nh milta tw -1 dega\u001b[39;00m\n\u001b[32m----> \u001b[39m\u001b[32m7\u001b[39m \u001b[38;5;28mprint\u001b[39m(\u001b[33m\"\u001b[39m\u001b[33mindex method\u001b[39m\u001b[33m\"\u001b[39m,\u001b[43mvalue\u001b[49m\u001b[43m.\u001b[49m\u001b[43mindex\u001b[49m\u001b[43m(\u001b[49m\u001b[33;43m\"\u001b[39;49m\u001b[33;43mc\u001b[39;49m\u001b[33;43m\"\u001b[39;49m\u001b[43m)\u001b[49m) \u001b[38;5;66;03m# ye error dega\u001b[39;00m\n",
      "\u001b[31mValueError\u001b[39m: substring not found"
     ]
    }
   ],
   "source": [
    "value=\"qazi umair\"\n",
    "print(value.replace(\"umair\",\"ubaidullah\"))\n",
    "print(value.replace(\"a\",\"o\"))\n",
    "print(value.replace(\"a\",\"o\",1))\n",
    "\n",
    "print(\"find method\",value.find(\"c\")) #agr find nh milta tw -1 dega\n",
    "print(\"index method\",value.index(\"c\")) # ye error dega\n"
   ]
  },
  {
   "cell_type": "code",
   "execution_count": 32,
   "id": "2b1b9820",
   "metadata": {},
   "outputs": [
    {
     "name": "stdout",
     "output_type": "stream",
     "text": [
      "True\n",
      "True\n",
      "start with qazi\n"
     ]
    }
   ],
   "source": [
    "value=\"qazi ubaid\"\n",
    "\n",
    "print(value.startswith('qazi')) #check krega start yha se hora he ya nh true false\n",
    "print(value.endswith('ubaid')) #check krega end yha se hora he ya nh true false\n",
    "\n",
    "if value.startswith(\"qazi\"):\n",
    "    print(\"start with qazi\")\n",
    "else:\n",
    "    print(\"not start qazi\")    "
   ]
  },
  {
   "cell_type": "code",
   "execution_count": 44,
   "id": "8ccf5361",
   "metadata": {},
   "outputs": [
    {
     "name": "stdout",
     "output_type": "stream",
     "text": [
      "['jan', 'feb', 'mar', 'apr', 'may', 'jun']\n"
     ]
    }
   ],
   "source": [
    "value=\"jan,feb,mar,apr,may,jun\"\n",
    "print(value.split(\",\"))\n",
    "\n"
   ]
  },
  {
   "cell_type": "markdown",
   "id": "62b620e8",
   "metadata": {},
   "source": [
    "# list Method"
   ]
  },
  {
   "cell_type": "code",
   "execution_count": 46,
   "id": "ec7d6192",
   "metadata": {},
   "outputs": [
    {
     "name": "stdout",
     "output_type": "stream",
     "text": [
      "['jan', 'feb', 'mar', 'apr', 'may', 'jun', 'july']\n"
     ]
    }
   ],
   "source": [
    "list=[\"jan\",\"feb\",\"mar\",\"apr\",\"may\",\"jun\"]\n",
    "list.append(\"july\")\n",
    "print(list)"
   ]
  },
  {
   "cell_type": "code",
   "execution_count": 47,
   "id": "282dce29",
   "metadata": {},
   "outputs": [
    {
     "name": "stdout",
     "output_type": "stream",
     "text": [
      "['JAN', 'jan', 'feb', 'mar', 'apr', 'may', 'jun']\n"
     ]
    }
   ],
   "source": [
    "list=[\"jan\",\"feb\",\"mar\",\"apr\",\"may\",\"jun\"]\n",
    "list.insert(0,\"JAN\") #specific location pr insert krana\n",
    "print(list)"
   ]
  },
  {
   "cell_type": "code",
   "execution_count": 48,
   "id": "b4ed896f",
   "metadata": {},
   "outputs": [
    {
     "name": "stdout",
     "output_type": "stream",
     "text": [
      "jun\n"
     ]
    }
   ],
   "source": [
    "list=[\"jan\",\"feb\",\"mar\",\"apr\",\"may\",\"jun\"]\n",
    "returnvalue=list.pop()\n",
    "print(returnvalue)"
   ]
  },
  {
   "cell_type": "code",
   "execution_count": 51,
   "id": "fc604598",
   "metadata": {},
   "outputs": [
    {
     "name": "stdout",
     "output_type": "stream",
     "text": [
      "['jan', 'feb', 'mar', 'apr', 'may', 'jun', 'july', 'aug', 'sep', 'oct', 'nov', 'dec']\n",
      "['jan', 'feb', 'mar', 'apr', 'may', 'jun', 'july', 'aug', 'sep', 'oct', 'nov', 'dec']\n"
     ]
    }
   ],
   "source": [
    "list1=[\"jan\",\"feb\",\"mar\",\"apr\",\"may\",\"jun\"]\n",
    "list2=[\"july\",\"aug\",\"sep\",\"oct\",\"nov\",\"dec\"]\n",
    "list1.extend(list2) #add krdega ye extend\n",
    "print(list1)\n",
    "\n",
    "list1=[\"jan\",\"feb\",\"mar\",\"apr\",\"may\",\"jun\"]\n",
    "list2=[\"july\",\"aug\",\"sep\",\"oct\",\"nov\",\"dec\"]\n",
    "list3=list1+list2 #isme original me update nh kraya hmne\n",
    "print(list3)"
   ]
  },
  {
   "cell_type": "code",
   "execution_count": 57,
   "id": "397af364",
   "metadata": {},
   "outputs": [
    {
     "name": "stdout",
     "output_type": "stream",
     "text": [
      "[1, 2, 3, 5, 5, 7, 8, 9]\n",
      "[9, 8, 7, 5, 5, 3, 2, 1]\n",
      "[3, 5, 9, 8, 1, 7, 5, 2]\n"
     ]
    }
   ],
   "source": [
    "list=[2,5,7,1,8,9,5,3]\n",
    "list.sort() #asc\n",
    "print(list)\n",
    "\n",
    "list=[2,5,7,1,8,9,5,3]\n",
    "list.sort(reverse=True) #desc\n",
    "print(list)\n",
    "\n",
    "list=[2,5,7,1,8,9,5,3]\n",
    "list.reverse() #reverse\n",
    "print(list)"
   ]
  },
  {
   "cell_type": "code",
   "execution_count": 59,
   "id": "a269614e",
   "metadata": {},
   "outputs": [
    {
     "name": "stdout",
     "output_type": "stream",
     "text": [
      "[2, 5, 7, 8, 9, 5, 3]\n"
     ]
    }
   ],
   "source": [
    "list=[2,5,7,1,8,9,5,3]\n",
    "list.remove(1) #jo value de wo remove krdi\n",
    "print(list)"
   ]
  },
  {
   "cell_type": "code",
   "execution_count": 68,
   "id": "b7d409d7",
   "metadata": {},
   "outputs": [
    {
     "name": "stdout",
     "output_type": "stream",
     "text": [
      "[2, 5, 7, 1, 8, 9, 5, 3]\n",
      "[2, 5, 7, 1, 8, 9, 5]\n",
      "[2, 5, 7, 1, 8, 9, 5]\n"
     ]
    }
   ],
   "source": [
    "list=[2,5,7,1,8,9,5,3]\n",
    "list2=list.copy()\n",
    "print(list2)\n",
    "\n",
    "list=[2,5,7,1,8,9,5]\n",
    "list4=list[0:7]\n",
    "print(list4)\n",
    "\n",
    "list=[2,5,7,1,8,9,5]\n",
    "list4=list[0:7:2] \n",
    "print(list4)\n",
    "\n"
   ]
  },
  {
   "cell_type": "markdown",
   "id": "46c02b65",
   "metadata": {},
   "source": [
    "# Dictionary Method\n"
   ]
  },
  {
   "cell_type": "code",
   "execution_count": 70,
   "id": "e26a185f",
   "metadata": {},
   "outputs": [
    {
     "name": "stdout",
     "output_type": "stream",
     "text": [
      "{'name': 'Ubaid', 'age': 20, 'roll no': '290'}\n"
     ]
    }
   ],
   "source": [
    "student={\"name\":\"Ubaid\",\"age\":20}\n",
    "student.update({\"roll no\":\"290\"})\n",
    "print(student)"
   ]
  },
  {
   "cell_type": "code",
   "execution_count": 76,
   "id": "e5c76561",
   "metadata": {},
   "outputs": [
    {
     "name": "stdout",
     "output_type": "stream",
     "text": [
      "{'name': 'Ubaid'}\n"
     ]
    }
   ],
   "source": [
    "student={\"name\":\"Ubaid\",\"age\":20}\n",
    "student.pop(\"age\") # key ka name denge delete hojaega\n",
    "print(student)"
   ]
  },
  {
   "cell_type": "code",
   "execution_count": 79,
   "id": "626b0842",
   "metadata": {},
   "outputs": [
    {
     "name": "stdout",
     "output_type": "stream",
     "text": [
      "{'name': 'Ubaid'}\n",
      "('age', 20)\n"
     ]
    }
   ],
   "source": [
    "student={\"name\":\"Ubaid\",\"age\":20}\n",
    "result=student.popitem() #last se remove or tupple form me return\n",
    "print(student)\n",
    "print(result)"
   ]
  },
  {
   "cell_type": "code",
   "execution_count": 81,
   "id": "9ad2b2fb",
   "metadata": {},
   "outputs": [
    {
     "name": "stdout",
     "output_type": "stream",
     "text": [
      "dict_keys(['name', 'age'])\n",
      "dict_values(['Ubaid', 20])\n",
      "dict_items([('name', 'Ubaid'), ('age', 20)])\n"
     ]
    }
   ],
   "source": [
    "student={\"name\":\"Ubaid\",\"age\":20}\n",
    "print(student.keys())\n",
    "print(student.values())\n",
    "print(student.items()) #dono key value tupple form me list of tupple"
   ]
  },
  {
   "cell_type": "code",
   "execution_count": 90,
   "id": "fe17d264",
   "metadata": {},
   "outputs": [
    {
     "name": "stdout",
     "output_type": "stream",
     "text": [
      "item key:name and value:Ubaid\n",
      "item key:age and value:20\n"
     ]
    }
   ],
   "source": [
    "student={\"name\":\"Ubaid\",\"age\":20}\n",
    "for key,value in student.items(): #destructure kra huwa direct hmne\n",
    " print(f\"item key:{key} and value:{value}\")\n"
   ]
  },
  {
   "cell_type": "code",
   "execution_count": 92,
   "id": "1b3b1334",
   "metadata": {},
   "outputs": [
    {
     "name": "stdout",
     "output_type": "stream",
     "text": [
      "{'name': 'Ubaid'}\n"
     ]
    }
   ],
   "source": [
    "student={\"name\":\"Ubaid\",\"age\":20}\n",
    "del student[\"age\"] #specific jo denge wo delete hoga\n",
    "print(student)"
   ]
  },
  {
   "cell_type": "markdown",
   "id": "08b0de49",
   "metadata": {},
   "source": [
    "# Input"
   ]
  },
  {
   "cell_type": "code",
   "execution_count": 93,
   "id": "74c5173c",
   "metadata": {},
   "outputs": [
    {
     "name": "stdout",
     "output_type": "stream",
     "text": [
      "enter your name\n",
      "Hiqazi\n"
     ]
    }
   ],
   "source": [
    "print(\"enter your name\")\n",
    "name=input()\n",
    "print(f\"Hi {name}\")"
   ]
  },
  {
   "cell_type": "code",
   "execution_count": 99,
   "id": "37a57c82",
   "metadata": {},
   "outputs": [
    {
     "name": "stdout",
     "output_type": "stream",
     "text": [
      "0.01\n"
     ]
    }
   ],
   "source": [
    "factors = {\n",
    "        \"meter\": 1,\n",
    "        \"kilometer\": 1000,\n",
    "        \"centimeter\": 0.01,\n",
    "        \"millimeter\": 0.001\n",
    "    }\n",
    "\n",
    "print(factors[\"centimeter\"])"
   ]
  },
  {
   "cell_type": "markdown",
   "id": "c975edac",
   "metadata": {},
   "source": [
    " # Set{}"
   ]
  },
  {
   "cell_type": "code",
   "execution_count": 101,
   "id": "284a8699",
   "metadata": {},
   "outputs": [
    {
     "name": "stdout",
     "output_type": "stream",
     "text": [
      "{True, 'Apple', 'banana'}\n",
      "{False, 'Apple', 'banana'}\n"
     ]
    }
   ],
   "source": [
    "thisset={\"Apple\",\"banana\",True,1}\n",
    "print(thisset)\n",
    "\n",
    "thisset={\"Apple\",\"banana\",False,0}\n",
    "print(thisset)"
   ]
  },
  {
   "cell_type": "code",
   "execution_count": 124,
   "id": "204cf5a1",
   "metadata": {},
   "outputs": [
    {
     "name": "stdout",
     "output_type": "stream",
     "text": [
      "{'cherry', 'orange', 'apple', 'banana'}\n"
     ]
    }
   ],
   "source": [
    "fruits = {\"apple\", \"banana\", \"cherry\"}\n",
    "fruits.add(\"orange\")#add\n",
    "print(fruits)"
   ]
  },
  {
   "cell_type": "code",
   "execution_count": 123,
   "id": "e232c1ec",
   "metadata": {},
   "outputs": [
    {
     "name": "stdout",
     "output_type": "stream",
     "text": [
      "set()\n"
     ]
    }
   ],
   "source": [
    "fruits = {\"apple\", \"banana\", \"cherry\"}\n",
    "fruits.clear() #remove all\n",
    "print(fruits)"
   ]
  },
  {
   "cell_type": "code",
   "execution_count": 109,
   "id": "347e544f",
   "metadata": {},
   "outputs": [
    {
     "name": "stdout",
     "output_type": "stream",
     "text": [
      "{'cherry', 'apple', 'banana'}\n"
     ]
    }
   ],
   "source": [
    "fruits = {\"apple\", \"banana\", \"cherry\"}\n",
    "x=fruits.copy()\n",
    "print(x)"
   ]
  },
  {
   "cell_type": "code",
   "execution_count": null,
   "id": "ce24d41a",
   "metadata": {},
   "outputs": [
    {
     "name": "stdout",
     "output_type": "stream",
     "text": [
      "{'cherry', 'banana'}\n",
      "{1, 5, 6}\n",
      "{'banana'}\n"
     ]
    }
   ],
   "source": [
    "x = {\"apple\", \"banana\", \"cherry\"}\n",
    "y = {\"google\", \"microsoft\", \"apple\"}\n",
    "z = x.difference(y) #x me jo item he wo y me nh he tw return krdega jo nh he\n",
    "print(z)\n",
    "\n",
    "numbers1={1,2,3,4,5,6}\n",
    "numbers2={2,3,7,4,9}\n",
    "result=numbers1.difference(numbers2)  #shortcut result=numbers1-number2\n",
    "print(result)\n",
    "\n",
    "a = {\"apple\", \"banana\", \"cherry\"}\n",
    "b = {\"google\", \"microsoft\", \"apple\"}\n",
    "c = {\"cherry\", \"micra\", \"bluebird\"}\n",
    "\n",
    "myset = a.difference(b, c)\n",
    "print(myset)"
   ]
  },
  {
   "cell_type": "code",
   "execution_count": 125,
   "id": "c3630cd1",
   "metadata": {},
   "outputs": [
    {
     "name": "stdout",
     "output_type": "stream",
     "text": [
      "{'cherry', 'banana'}\n",
      "{6}\n"
     ]
    }
   ],
   "source": [
    "x = {\"apple\", \"banana\", \"cherry\"}\n",
    "y = {\"google\", \"microsoft\", \"apple\"}\n",
    "x.difference_update(y) #Remove the items that exist in both sets\n",
    "print(x)\n",
    "\n",
    "number1={1,2,3,4,5}\n",
    "number2={1,2,3,4,5,6}\n",
    "number2.difference_update(number1)\n",
    "print(number2)\n"
   ]
  },
  {
   "cell_type": "code",
   "execution_count": 130,
   "id": "2d43e62e",
   "metadata": {},
   "outputs": [
    {
     "name": "stdout",
     "output_type": "stream",
     "text": [
      "{'google', 'microsoft', 'apple', 'banana', 'cherry'}\n",
      "{1, 2, 3, 4, 5, 9, 10}\n"
     ]
    }
   ],
   "source": [
    "x = {\"apple\", \"banana\", \"cherry\"}\n",
    "y = {\"google\", \"microsoft\", \"apple\"}\n",
    "x.update(y) #dono me koi same hotw 1 dafa consider krega \n",
    "print(x)\n",
    "\n",
    "number1={1,2,3,4,5}\n",
    "number2={5,2,3,4,9,10}\n",
    "number1.update(number2)\n",
    "print(number1)\n",
    "\n",
    "\n",
    "number1={1,2,3,4,5}\n",
    "number2={5,2,3,4,9,10}\n"
   ]
  },
  {
   "cell_type": "code",
   "execution_count": null,
   "id": "62dc4216",
   "metadata": {},
   "outputs": [
    {
     "name": "stdout",
     "output_type": "stream",
     "text": [
      "{'cherry', 'apple'}\n"
     ]
    }
   ],
   "source": [
    "fruits = {\"apple\", \"banana\", \"cherry\"}\n",
    "\n",
    "fruits.remove(\"banana\") #ye error dega agr find nh hota\n",
    "\n",
    "print(fruits)"
   ]
  },
  {
   "cell_type": "code",
   "execution_count": null,
   "id": "93a9201d",
   "metadata": {},
   "outputs": [
    {
     "name": "stdout",
     "output_type": "stream",
     "text": [
      "{'cherry', 'apple', 'banana'}\n"
     ]
    }
   ],
   "source": [
    "fruits = {\"apple\", \"banana\", \"cherry\"}\n",
    "\n",
    "fruits.discard(\"banana\") #ye error nhi dega agr find nh hota\n",
    "\n",
    "print(fruits)"
   ]
  },
  {
   "cell_type": "code",
   "execution_count": 143,
   "id": "8e319f55",
   "metadata": {},
   "outputs": [
    {
     "name": "stdout",
     "output_type": "stream",
     "text": [
      "{'banana'}\n"
     ]
    }
   ],
   "source": [
    "fruits = {\"apple\", \"banana\"}\n",
    "\n",
    "fruits.pop()\n",
    "\n",
    "print(fruits)"
   ]
  },
  {
   "cell_type": "code",
   "execution_count": 2,
   "id": "c89d4ae3",
   "metadata": {},
   "outputs": [
    {
     "name": "stdout",
     "output_type": "stream",
     "text": [
      "{'apple', 'banana', 'cherry', 'google', 'microsoft'}\n"
     ]
    }
   ],
   "source": [
    "x = {\"apple\", \"banana\", \"cherry\"}\n",
    "y = {\"google\", \"microsoft\", \"apple\"}\n",
    "\n",
    "z = x.union(y) #duplicate excluded\n",
    "\n",
    "print(z)"
   ]
  },
  {
   "cell_type": "code",
   "execution_count": 4,
   "id": "1101309c",
   "metadata": {},
   "outputs": [
    {
     "name": "stdout",
     "output_type": "stream",
     "text": [
      "{'apple'}\n"
     ]
    }
   ],
   "source": [
    "x = {\"apple\", \"banana\", \"cherry\"}\n",
    "y = {\"google\", \"microsoft\", \"apple\"}\n",
    "\n",
    "z = x.intersection(y) #dono me jo same wo return hoga\n",
    "\n",
    "print(z)"
   ]
  },
  {
   "cell_type": "code",
   "execution_count": null,
   "id": "862ab83b",
   "metadata": {},
   "outputs": [
    {
     "name": "stdout",
     "output_type": "stream",
     "text": [
      "{'banana', 'cherry', 'google', 'microsoft'}\n"
     ]
    }
   ],
   "source": [
    "x = {\"apple\", \"banana\", \"cherry\"}\n",
    "y = {\"google\", \"microsoft\", \"apple\"}\n",
    "\n",
    "z = x.symmetric_difference(y) #jo dono me same hoga osko nh return krega excluded\n",
    "\n",
    "print(z)"
   ]
  },
  {
   "cell_type": "markdown",
   "id": "e652a975",
   "metadata": {},
   "source": [
    "# Tupple Method()"
   ]
  },
  {
   "cell_type": "markdown",
   "id": "9a10579f",
   "metadata": {},
   "source": []
  },
  {
   "cell_type": "code",
   "execution_count": 8,
   "id": "7cdded23",
   "metadata": {},
   "outputs": [
    {
     "name": "stdout",
     "output_type": "stream",
     "text": [
      "2\n"
     ]
    }
   ],
   "source": [
    "thistuple=(1, 3, 7, 8, 7, 5, 4, 6, 8,5)\n",
    "x = thistuple.count(5) #kitni dafa he ye number count\n",
    "print(x)"
   ]
  },
  {
   "cell_type": "code",
   "execution_count": 10,
   "id": "da061f8d",
   "metadata": {},
   "outputs": [
    {
     "name": "stdout",
     "output_type": "stream",
     "text": [
      "3\n"
     ]
    }
   ],
   "source": [
    "thistuple = (1, 3, 7, 8, 7, 5, 4, 6, 8, 5)\n",
    "x = thistuple.index(8) #jo first milega oska index dedega\n",
    "print(x)"
   ]
  },
  {
   "cell_type": "code",
   "execution_count": 13,
   "id": "0466cbb6",
   "metadata": {},
   "outputs": [
    {
     "name": "stdout",
     "output_type": "stream",
     "text": [
      "2\n",
      "3\n"
     ]
    }
   ],
   "source": [
    "my_tuple = ('apple', 'banana', 'cherry', 'banana')\n",
    "index_of_cherry = my_tuple.index('cherry')\n",
    "print(index_of_cherry)\n",
    "\n",
    "index_of_second_banana = my_tuple.index('banana', 2)\n",
    "print(index_of_second_banana) # Output: 3"
   ]
  },
  {
   "cell_type": "code",
   "execution_count": 15,
   "id": "2e125c29",
   "metadata": {},
   "outputs": [
    {
     "name": "stdout",
     "output_type": "stream",
     "text": [
      "10\n",
      "(20, 30, 40)\n"
     ]
    }
   ],
   "source": [
    "my_tuple = (10, 20, 30, 40, 50)\n",
    "print(my_tuple[0])   # Output: 10\n",
    "print(my_tuple[1:4]) # Output: (20, 30, 40)"
   ]
  },
  {
   "cell_type": "code",
   "execution_count": 18,
   "id": "037ad6fd",
   "metadata": {},
   "outputs": [
    {
     "name": "stdout",
     "output_type": "stream",
     "text": [
      "True\n",
      "True\n"
     ]
    }
   ],
   "source": [
    "my_tuple = ('a', 'b', 'c')\n",
    "print('b' in my_tuple)    # Output: True\n",
    "print('d' not in my_tuple) # Output: True"
   ]
  }
 ],
 "metadata": {
  "kernelspec": {
   "display_name": "Python (.venv)",
   "language": "python",
   "name": ".venv"
  },
  "language_info": {
   "codemirror_mode": {
    "name": "ipython",
    "version": 3
   },
   "file_extension": ".py",
   "mimetype": "text/x-python",
   "name": "python",
   "nbconvert_exporter": "python",
   "pygments_lexer": "ipython3",
   "version": "3.12.10"
  }
 },
 "nbformat": 4,
 "nbformat_minor": 5
}
