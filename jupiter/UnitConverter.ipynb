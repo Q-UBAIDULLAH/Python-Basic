{
 "cells": [
  {
   "cell_type": "code",
   "execution_count": 10,
   "id": "5c842e47",
   "metadata": {},
   "outputs": [
    {
     "name": "stdout",
     "output_type": "stream",
     "text": [
      "Welcome to Unit Converter\n",
      "1. Length\n",
      "2. Weight\n",
      "3. Temperature\n",
      "1000.0 kilogram = 1000000.0 gram\n"
     ]
    }
   ],
   "source": [
    "def length_converter(value, from_unit, to_unit):\n",
    "    # Length conversion factors (base = meter)\n",
    "    factors = {\n",
    "        \"meter\": 1,\n",
    "        \"kilometer\": 1000,\n",
    "        \"centimeter\": 0.01,\n",
    "        \"millimeter\": 0.001\n",
    "    }\n",
    "    return value * (factors[from_unit] / factors[to_unit])\n",
    "\n",
    "def weight_converter(value, from_unit, to_unit):\n",
    "    # Weight conversion factors (base = kilogram)\n",
    "    factors = {\n",
    "        \"kilogram\": 1,\n",
    "        \"gram\": 0.001,\n",
    "        \"pound\": 0.453592\n",
    "    }\n",
    "    return value * (factors[from_unit] / factors[to_unit])\n",
    "\n",
    "def temperature_converter(value, from_unit, to_unit):\n",
    "    if from_unit == \"celsius\" and to_unit == \"fahrenheit\":\n",
    "        return (value * 9/5) + 32\n",
    "    elif from_unit == \"fahrenheit\" and to_unit == \"celsius\":\n",
    "        return (value - 32) * 5/9\n",
    "    elif from_unit == \"celsius\" and to_unit == \"kelvin\":\n",
    "        return value + 273.15\n",
    "    elif from_unit == \"kelvin\" and to_unit == \"celsius\":\n",
    "        return value - 273.15\n",
    "    else:\n",
    "        return None  # For unsupported conversions\n",
    "\n",
    "print(\"Welcome to Unit Converter\")\n",
    "print(\"1. Length\\n2. Weight\\n3. Temperature\")\n",
    "choice = int(input(\"Choose conversion type: \"))\n",
    "\n",
    "value = float(input(\"Enter value to convert: \"))\n",
    "from_unit = input(\"From unit: \").lower()\n",
    "to_unit = input(\"To unit: \").lower()\n",
    "\n",
    "if choice == 1:\n",
    "    result = length_converter(value, from_unit, to_unit)\n",
    "elif choice == 2:\n",
    "    result = weight_converter(value, from_unit, to_unit)\n",
    "elif choice == 3:\n",
    "    result = temperature_converter(value, from_unit, to_unit)\n",
    "else:\n",
    "    result = None\n",
    "\n",
    "if result is not None:\n",
    "    print(f\"{value} {from_unit} = {result} {to_unit}\")\n",
    "else:\n",
    "    print(\"Conversion not supported or invalid units.\")\n"
   ]
  }
 ],
 "metadata": {
  "kernelspec": {
   "display_name": "Python (.venv)",
   "language": "python",
   "name": ".venv"
  },
  "language_info": {
   "codemirror_mode": {
    "name": "ipython",
    "version": 3
   },
   "file_extension": ".py",
   "mimetype": "text/x-python",
   "name": "python",
   "nbconvert_exporter": "python",
   "pygments_lexer": "ipython3",
   "version": "3.12.10"
  }
 },
 "nbformat": 4,
 "nbformat_minor": 5
}
